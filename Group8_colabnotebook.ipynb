{
  "nbformat": 4,
  "nbformat_minor": 0,
  "metadata": {
    "colab": {
      "provenance": [],
      "include_colab_link": true
    },
    "kernelspec": {
      "name": "python3",
      "display_name": "Python 3"
    },
    "language_info": {
      "name": "python"
    }
  },
  "cells": [
    {
      "cell_type": "markdown",
      "metadata": {
        "id": "view-in-github",
        "colab_type": "text"
      },
      "source": [
        "<a href=\"https://colab.research.google.com/github/alexiamlee/Group-8/blob/main/Group8_colabnotebook.ipynb\" target=\"_parent\"><img src=\"https://colab.research.google.com/assets/colab-badge.svg\" alt=\"Open In Colab\"/></a>"
      ]
    },
    {
      "cell_type": "markdown",
      "source": [
        "Detect defect regions (including any broken regions, impurity, intrinsic defects)"
      ],
      "metadata": {
        "id": "REeYONUFMrXp"
      }
    },
    {
      "cell_type": "markdown",
      "source": [
        "Downloading and unziping the image file"
      ],
      "metadata": {
        "id": "iQ4-kOgGRe7Z"
      }
    },
    {
      "cell_type": "markdown",
      "source": [
        "Give analysis on the performance of the model (precision, limitation etc.), analysis on the detected defect regions"
      ],
      "metadata": {
        "id": "-U26O2QIM_me"
      }
    },
    {
      "cell_type": "code",
      "source": [],
      "metadata": {
        "id": "xYRKwO3WNIZk"
      },
      "execution_count": null,
      "outputs": []
    },
    {
      "cell_type": "markdown",
      "source": [
        "Extended Challenges"
      ],
      "metadata": {
        "id": "0eIn6H1bNIxC"
      }
    },
    {
      "cell_type": "markdown",
      "source": [
        "1) Publish an API and provide a front-end design for your model"
      ],
      "metadata": {
        "id": "SmhlZlpBNNDl"
      }
    },
    {
      "cell_type": "code",
      "source": [],
      "metadata": {
        "id": "RyL60RbaPxXs"
      },
      "execution_count": null,
      "outputs": []
    }
  ]
}